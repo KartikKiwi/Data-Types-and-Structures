{
  "nbformat": 4,
  "nbformat_minor": 0,
  "metadata": {
    "colab": {
      "provenance": []
    },
    "kernelspec": {
      "name": "python3",
      "display_name": "Python 3"
    },
    "language_info": {
      "name": "python"
    }
  },
  "cells": [
    {
      "cell_type": "code",
      "execution_count": null,
      "metadata": {
        "id": "Ezni6pzyjErS"
      },
      "outputs": [],
      "source": []
    },
    {
      "cell_type": "markdown",
      "source": [
        "Q1) What are data structures, and why are they important\n",
        "Answer: There are multiple types of data structures in python which know for multiple uses, Data Structures are well organized and easy acceceble in python. using Strings, tuple, sets, dictionaries we can access purticulat data in organize manner.\n",
        "\n",
        "\n",
        "Q2) Explain the difference between mutable and immutable data types with examples\n",
        "Answer: Mutable data are those type of data which we can assigned a new value add new data in it or do modification if we want to do for ex. we can append list. Immutable data type are tuples which we can not modified or change its data accprding to our need for ex. Tuple can not modified or append data.\n",
        "\n",
        "\n",
        "Q3) What are the main differences between lists and tuples in Python\n",
        "Answer: List have my_list [] this syntax to show list, and tuple have my_tuple ()this, also we can change or rearrange list but tuple do'nt allow to do changes in its structure.\n",
        "\n",
        "\n",
        "Q4) Describe how dictionaries store data\n",
        "Answer: Dictionaries does not store data like list, Dictionaries store data in unorderd manner and they have specific \"key name\" and there \"Value\". Every key name has a value in dictionaries.\n",
        "\n",
        "\n",
        "Q5) Why might you use a set instead of a list in Python\n",
        "Answere: When we want to find unique items in data we use sets, cause set have unique unorderd and data storage.\n",
        "\n",
        "\n",
        "Q6) What is a string in Python, and how is it different from a list\n",
        "Answere: Strings are denoted by \" \" this, it's stored data in memory block which can acceceble by its index in unchangeble order, strings are consider to use when we want to give a sentence or word as data, while list have multiple type of values it can be string, integer, boolean value or float.\n",
        "\n",
        "\n",
        "Q7) How do tuples ensure data integrity in Python\n",
        "Answer: Tuples are the data structure which we can not append or change or modifie, and because of that data we can access but can not change it.\n",
        "\n",
        "\n",
        "Q8) What is a hash table, and how does it relate to dictionaries in Python\n",
        "Answer: Hash is a function which used by dictionaries to store data in key and value manner, by using hash table function every key has unique and its value can be same or unique.\n",
        "\n",
        "\n",
        "Q9) Can lists contain different data types in Python\n",
        "Answer: Yes list can have string, integer, float or bolean value as data.\n",
        "\n",
        "\n",
        "Q10) Explain why strings are immutable in Python\n",
        "Answer: Because string is stored in memory block in organized and unchangeble structure to access each element by its index.\n",
        "\n",
        "\n",
        "Q11) What advantages do dictionaries offer over lists for certain tasks\n",
        "Answer: in Task like bifurcation of marks and subject, we can use key as subject and marks as value to generate more readable result over list it will have all data in one list or list in the list, but to access it will not be access as marks and subject to differentiate.\n",
        "\n",
        "\n",
        "Q12) Describe a scenario where using a tuple would be preferable over a list\n",
        "Answer: When we are working on a data of cities range of Killometer by diffrent cities we can not change there range but if we want to access it we can use multiple time to it as fixed data.\n",
        "\n",
        "\n",
        "Q13) How do sets handle duplicate values in Python\n",
        "Answer: Sets always show unique value by overwriting duplicate value.\n",
        "\n",
        "\n",
        "Q14) How does the “in” keyword work differently for lists and dictionaries\n",
        "Answer:in list we can use \"in\" keyword as operator to compress two diffrent list by zip function. and in dictionaries it can be use to chech the value of key are true or fales.\n",
        "\n",
        "Q15) Can you modify the elements of a tuple? Explain why or why not\n",
        "Answere: No we can not modify element in tiple bacause its immutable object.\n",
        "\n",
        "\n",
        "Q16) What is a nested dictionary, and give an example of its use case\n",
        "Answer:Nested dictionary is dictionary which have dictionary inside it by maintaining hiarchey of key value pair's. for example, you could use a nested dictionary to represent a company organizational chart, with departments as top-level keys and each department containing a dictionary of employee details as values.\n",
        "\n",
        "\n",
        "Q17) Describe the time complexity of accessing elements in a dictionary\n",
        "Answer: Don't know, need help\n",
        "\n",
        "\n",
        "Q18) In what situations are lists preferred over dictionaries\n",
        "Answere: where data is simple and no need to specify as key or value we use list for ex shopping list.\n",
        "\n",
        "Q19) Why are dictionaries considered unordered, and how does that affect data retrieval\n",
        "Answer: because its stored data in key and value pair formate, every key is unique and have unique value to access.\n",
        "\n",
        "Q20) Explain the difference between a list and a dictionary in terms of data retrieval\n",
        "Answere: When we want to acces data from list we can use indexing as to drive purticular data from index as they stored in list, but in dictionary data is stored i key value formate it will show indexing by key and will appear the value assinge to that index key."
      ],
      "metadata": {
        "id": "TIaWdwbSv2Qo"
      }
    },
    {
      "cell_type": "code",
      "source": [
        "#Write a code to create a string with your name and print it\n",
        "name = \"Kartik Raysing\"\n",
        "print(name)"
      ],
      "metadata": {
        "colab": {
          "base_uri": "https://localhost:8080/"
        },
        "id": "RSMriKDDjvQM",
        "outputId": "9a8e1717-9cb3-4e20-8d39-bda63b957a70"
      },
      "execution_count": 10,
      "outputs": [
        {
          "output_type": "stream",
          "name": "stdout",
          "text": [
            "Kartik Raysing\n"
          ]
        }
      ]
    },
    {
      "cell_type": "code",
      "source": [
        "#Write a code to find the length of the string \"Hello World\"\n",
        "name= \"hello world\"\n",
        "len(name)"
      ],
      "metadata": {
        "colab": {
          "base_uri": "https://localhost:8080/"
        },
        "id": "NIslWS90_KfJ",
        "outputId": "77e03d00-4ad7-46ca-ad65-0a74ca65cc2b"
      },
      "execution_count": 11,
      "outputs": [
        {
          "output_type": "execute_result",
          "data": {
            "text/plain": [
              "11"
            ]
          },
          "metadata": {},
          "execution_count": 11
        }
      ]
    },
    {
      "cell_type": "code",
      "source": [
        "name = \"Python Programming\"\n",
        "sliced_name = name[:3]\n",
        "print(sliced_name)"
      ],
      "metadata": {
        "colab": {
          "base_uri": "https://localhost:8080/"
        },
        "id": "QRRCo0Kr_aKQ",
        "outputId": "1b80592a-1616-496f-cd2e-5a0777f50236"
      },
      "execution_count": 12,
      "outputs": [
        {
          "output_type": "stream",
          "name": "stdout",
          "text": [
            "Pyt\n"
          ]
        }
      ]
    },
    {
      "cell_type": "code",
      "source": [
        "#Write a code to convert the string \"hello\" to uppercase\n",
        "name = \"hello\"\n",
        "uppercase_name = name.upper()\n",
        "print(uppercase_name)\n"
      ],
      "metadata": {
        "colab": {
          "base_uri": "https://localhost:8080/"
        },
        "id": "yRRXZ7Vy_tYg",
        "outputId": "b7a957ae-0b7b-4d80-d58d-0ce933583472"
      },
      "execution_count": 13,
      "outputs": [
        {
          "output_type": "stream",
          "name": "stdout",
          "text": [
            "HELLO\n"
          ]
        }
      ]
    },
    {
      "cell_type": "code",
      "source": [
        "#Write a code to replace the word \"apple\" with \"orange\" in the string \"I like apple\"\n",
        "name = \"I like apple\"\n",
        "replaced_name = name.replace(\"apple\", \"orange\")\n",
        "print(replaced_name)"
      ],
      "metadata": {
        "colab": {
          "base_uri": "https://localhost:8080/"
        },
        "id": "jg3xh_5rABcU",
        "outputId": "04272b40-fd25-4aba-96d1-569b0fb59ddd"
      },
      "execution_count": 14,
      "outputs": [
        {
          "output_type": "stream",
          "name": "stdout",
          "text": [
            "I like orange\n"
          ]
        }
      ]
    },
    {
      "cell_type": "code",
      "source": [
        "##Write a code to create a list with numbers 1 to 5 and print it\n",
        "numbers = list(range(1, 6))\n",
        "print(numbers)"
      ],
      "metadata": {
        "colab": {
          "base_uri": "https://localhost:8080/"
        },
        "id": "_4J9-KybATPY",
        "outputId": "cb3ccb39-8f2c-4742-ade3-6aae5fa7d0b8"
      },
      "execution_count": 15,
      "outputs": [
        {
          "output_type": "stream",
          "name": "stdout",
          "text": [
            "[1, 2, 3, 4, 5]\n"
          ]
        }
      ]
    },
    {
      "cell_type": "code",
      "source": [
        "# Write a code to append the number 10 to the list [1, 2, 3, 4]\n",
        "my_list= [1,2,3,4]\n",
        "my_list.append (10)\n",
        "print (my_list)"
      ],
      "metadata": {
        "colab": {
          "base_uri": "https://localhost:8080/"
        },
        "id": "nbdinu8RWKqt",
        "outputId": "dd0d56a9-fe0e-467a-84a0-554b1868cdce"
      },
      "execution_count": 5,
      "outputs": [
        {
          "output_type": "stream",
          "name": "stdout",
          "text": [
            "[1, 2, 3, 4, 10]\n"
          ]
        }
      ]
    },
    {
      "cell_type": "code",
      "source": [
        "#Write a code to remove the number 3 from the list [1, 2, 3, 4, 5]\n",
        "my_list = [1,2,3,4,5]\n",
        "my_list.remove (3)\n",
        "print (my_list)"
      ],
      "metadata": {
        "colab": {
          "base_uri": "https://localhost:8080/"
        },
        "id": "gJISzuRuW_3z",
        "outputId": "1737d553-e8f6-4ca1-d2be-e7b931f8bc11"
      },
      "execution_count": 6,
      "outputs": [
        {
          "output_type": "stream",
          "name": "stdout",
          "text": [
            "[1, 2, 4, 5]\n"
          ]
        }
      ]
    },
    {
      "cell_type": "code",
      "source": [
        "#Write a code to access the second element in the list ['a', 'b', 'c', 'd']\n",
        "my_list = ['a', 'b', 'c', 'd']\n",
        "my_list[1]"
      ],
      "metadata": {
        "colab": {
          "base_uri": "https://localhost:8080/",
          "height": 35
        },
        "id": "hjRMqRqOXQkd",
        "outputId": "862d2c24-4ae6-4761-af5a-dedadf5df650"
      },
      "execution_count": 7,
      "outputs": [
        {
          "output_type": "execute_result",
          "data": {
            "text/plain": [
              "'b'"
            ],
            "application/vnd.google.colaboratory.intrinsic+json": {
              "type": "string"
            }
          },
          "metadata": {},
          "execution_count": 7
        }
      ]
    },
    {
      "cell_type": "code",
      "source": [
        "#Write a code to reverse the list [10, 20, 30, 40, 50]\n",
        "my_list = [10,20,30,40,50]\n",
        "my_list.reverse()\n",
        "print(my_list)"
      ],
      "metadata": {
        "colab": {
          "base_uri": "https://localhost:8080/"
        },
        "id": "LC0AU6beXne2",
        "outputId": "f7b944d4-48dd-488e-b3bd-73c7aa8a82d4"
      },
      "execution_count": 10,
      "outputs": [
        {
          "output_type": "stream",
          "name": "stdout",
          "text": [
            "[50, 40, 30, 20, 10]\n"
          ]
        }
      ]
    },
    {
      "cell_type": "code",
      "source": [
        "#Write a code to create a tuple with the elements 100, 200, 300 and print it\n",
        "my_tuple = (100, 200, 300)\n",
        "print(my_tuple)"
      ],
      "metadata": {
        "colab": {
          "base_uri": "https://localhost:8080/"
        },
        "id": "weHVqC1bX_9y",
        "outputId": "c0f909e6-38d4-48e8-bf09-c9c20f1c4744"
      },
      "execution_count": 14,
      "outputs": [
        {
          "output_type": "stream",
          "name": "stdout",
          "text": [
            "(100, 200, 300)\n"
          ]
        }
      ]
    },
    {
      "cell_type": "code",
      "source": [
        "#Write a code to access the second-to-last element of the tuple ('red', 'green', 'blue', 'yellow')\n",
        "my_tuple = ('red', 'green' 'blue', 'yellow')\n",
        "second_last_element = my_tuple[-2]\n",
        "print(second_last_element)"
      ],
      "metadata": {
        "colab": {
          "base_uri": "https://localhost:8080/"
        },
        "id": "7W6_CYJzYfta",
        "outputId": "68755683-d314-411b-8559-2291e03dab7a"
      },
      "execution_count": 15,
      "outputs": [
        {
          "output_type": "stream",
          "name": "stdout",
          "text": [
            "greenblue\n"
          ]
        }
      ]
    },
    {
      "cell_type": "code",
      "source": [
        "#Write a code to find the minimum number in the tuple (10, 20, 5, 15)\n",
        "my_tuple = (10, 20, 5, 15)\n",
        "minimum_number = min(my_tuple)\n",
        "print(minimum_number)"
      ],
      "metadata": {
        "colab": {
          "base_uri": "https://localhost:8080/"
        },
        "id": "xR_SYnh8Y_Sk",
        "outputId": "c5819e11-d100-4116-e992-416d86c804d3"
      },
      "execution_count": 16,
      "outputs": [
        {
          "output_type": "stream",
          "name": "stdout",
          "text": [
            "5\n"
          ]
        }
      ]
    },
    {
      "cell_type": "code",
      "source": [
        "#Write a code to find the index of the element \"cat\" in the tuple ('dog', 'cat', 'rabbit')\n",
        "my_tuple = ('dog', 'cat', 'rabbit')\n",
        "index = my_tuple.index('cat')\n",
        "print(index)"
      ],
      "metadata": {
        "colab": {
          "base_uri": "https://localhost:8080/"
        },
        "id": "hwmGRZxKZSMp",
        "outputId": "a31253f2-9f8c-4172-f544-102931588934"
      },
      "execution_count": 20,
      "outputs": [
        {
          "output_type": "stream",
          "name": "stdout",
          "text": [
            "1\n"
          ]
        }
      ]
    },
    {
      "cell_type": "code",
      "source": [
        "#Write a code to create a tuple containing three different fruits and check if \"kiwi\" is in it.\n",
        "Fruit_list = ('apple', 'kiwi', 'orange')\n",
        "if 'kiwi' in Fruit_list:\n",
        "    print(\"Kiwi is in the tuple.\")\n",
        "else:\n",
        "    print(\"Kiwi is not in the tuple.\")\n"
      ],
      "metadata": {
        "colab": {
          "base_uri": "https://localhost:8080/"
        },
        "id": "amO3tuY_aKVX",
        "outputId": "e837e9b6-4725-4782-86b1-f5126348e738"
      },
      "execution_count": 23,
      "outputs": [
        {
          "output_type": "stream",
          "name": "stdout",
          "text": [
            "Kiwi is in the tuple.\n"
          ]
        }
      ]
    },
    {
      "cell_type": "code",
      "source": [
        "#Write a code to create a set with the elements 'a', 'b', 'c' and print it.\n",
        "my_set = {'a', 'b', 'c'}\n",
        "print(my_set)"
      ],
      "metadata": {
        "colab": {
          "base_uri": "https://localhost:8080/"
        },
        "id": "pm9Pkj0JbFBq",
        "outputId": "3e139506-e93f-40b7-8fd6-951146da2927"
      },
      "execution_count": 24,
      "outputs": [
        {
          "output_type": "stream",
          "name": "stdout",
          "text": [
            "{'a', 'c', 'b'}\n"
          ]
        }
      ]
    },
    {
      "cell_type": "code",
      "source": [
        "#Write a code to clear all elements from the set {1, 2, 3, 4, 5}.\n",
        "my_set = {1,2,3,4,5}\n",
        "my_set.clear()\n",
        "print(my_set)"
      ],
      "metadata": {
        "colab": {
          "base_uri": "https://localhost:8080/"
        },
        "id": "gHN8HVVHbbVM",
        "outputId": "7b90940d-3798-4737-96de-a1d733d71082"
      },
      "execution_count": 29,
      "outputs": [
        {
          "output_type": "stream",
          "name": "stdout",
          "text": [
            "set()\n"
          ]
        }
      ]
    },
    {
      "cell_type": "code",
      "source": [
        "#Write a code to remove the element 4 from the set {1, 2, 3, 4}.\n",
        "my_set = {1,2,3,4}\n",
        "my_set.remove(4)\n",
        "print(my_set)"
      ],
      "metadata": {
        "colab": {
          "base_uri": "https://localhost:8080/"
        },
        "id": "zsJUXHKFbzs7",
        "outputId": "4251fb39-0863-4de0-e06c-5d1ecf16770e"
      },
      "execution_count": 30,
      "outputs": [
        {
          "output_type": "stream",
          "name": "stdout",
          "text": [
            "{1, 2, 3}\n"
          ]
        }
      ]
    },
    {
      "cell_type": "code",
      "source": [
        "#Write a code to find the union of two sets {1, 2, 3} and {3, 4, 5}.\n",
        "my_set_1 = {1, 2, 3}\n",
        "my_set_2 = {3, 4, 5}\n",
        "union = my_set_1.union(my_set_2)\n",
        "print(union)\n"
      ],
      "metadata": {
        "colab": {
          "base_uri": "https://localhost:8080/"
        },
        "id": "t-6VWNXTcHz0",
        "outputId": "f8b8e974-8023-42a9-c153-d50298a2c4bf"
      },
      "execution_count": 31,
      "outputs": [
        {
          "output_type": "stream",
          "name": "stdout",
          "text": [
            "{1, 2, 3, 4, 5}\n"
          ]
        }
      ]
    },
    {
      "cell_type": "code",
      "source": [
        "# Write a code to find the intersection of two sets {1, 2, 3} and {2, 3, 4}.\n",
        "my_set_1 = {1,2,3}\n",
        "my_set_2 = {2,3,4}\n",
        "intersection = my_set_1.intersection(my_set_2)\n",
        "print(intersection)"
      ],
      "metadata": {
        "colab": {
          "base_uri": "https://localhost:8080/"
        },
        "id": "0vX_Mb1lch_W",
        "outputId": "08082848-9125-42c5-d9e9-1fa7cf072b31"
      },
      "execution_count": 32,
      "outputs": [
        {
          "output_type": "stream",
          "name": "stdout",
          "text": [
            "{2, 3}\n"
          ]
        }
      ]
    },
    {
      "cell_type": "code",
      "source": [
        "#Write a code to create a dictionary with the keys \"name\", \"age\", and \"city\", and print it.\n",
        "my_dictionary = {\"name\": \"kartik\", \"age\": \"27\", \"city\" : \"pune\"}\n",
        "print(my_dictionary)"
      ],
      "metadata": {
        "colab": {
          "base_uri": "https://localhost:8080/"
        },
        "id": "_aoGLVDJdBZf",
        "outputId": "d017d70b-a25f-435b-ed52-b64b37a5ba17"
      },
      "execution_count": 33,
      "outputs": [
        {
          "output_type": "stream",
          "name": "stdout",
          "text": [
            "{'name': 'kartik', 'age': '27', 'city': 'pune'}\n"
          ]
        }
      ]
    },
    {
      "cell_type": "code",
      "source": [
        "#Write a code to add a new key-value pair \"country\": \"USA\" to the dictionary {'name': 'John', 'age': 25}.\n",
        "my_dictionary = {'name': 'John','age': 25}\n",
        "my_dictionary['country'] = 'USA'\n",
        "print(my_dictionary)"
      ],
      "metadata": {
        "colab": {
          "base_uri": "https://localhost:8080/"
        },
        "id": "WjWAHU3-dkAW",
        "outputId": "0edb62d8-b4c6-4dda-b901-f3e59cab3bda"
      },
      "execution_count": 35,
      "outputs": [
        {
          "output_type": "stream",
          "name": "stdout",
          "text": [
            "{'name': 'John', 'age': 25, 'country': 'USA'}\n"
          ]
        }
      ]
    },
    {
      "cell_type": "code",
      "source": [
        "#Write a code to access the value associated with the key \"name\" in the dictionary {'name': 'Alice', 'age': 30}.\n",
        "my_dictionary = {'name' : 'Alice', 'age': 30}\n",
        "name = my_dictionary['name']\n",
        "print(name)"
      ],
      "metadata": {
        "colab": {
          "base_uri": "https://localhost:8080/"
        },
        "id": "5w1APoBQeHXA",
        "outputId": "dcf14cdd-44a3-4950-b7a9-309281e92d44"
      },
      "execution_count": 38,
      "outputs": [
        {
          "output_type": "stream",
          "name": "stdout",
          "text": [
            "Alice\n"
          ]
        }
      ]
    },
    {
      "cell_type": "code",
      "source": [
        "#Write a code to remove the key \"age\" from the dictionary {'name': 'Bob', 'age': 22, 'city': 'New York'}.\n",
        "my_dictionary = {'name' : 'Bob', 'age': 22, 'city' : 'New York'}\n",
        "del my_dictionary['age']\n",
        "print(my_dictionary)"
      ],
      "metadata": {
        "colab": {
          "base_uri": "https://localhost:8080/"
        },
        "id": "0LvzgyKSe81h",
        "outputId": "03312b9f-85cb-4e68-a04d-17b3ebdf23e4"
      },
      "execution_count": 39,
      "outputs": [
        {
          "output_type": "stream",
          "name": "stdout",
          "text": [
            "{'name': 'Bob', 'city': 'New York'}\n"
          ]
        }
      ]
    },
    {
      "cell_type": "code",
      "source": [
        "#Write a code to check if the key \"city\" exists in the dictionary {'name': 'Alice', 'city': 'Paris'}.\n",
        "my_dictionary = {'name': 'Alice','city': 'Paris'}\n",
        "if 'city' in my_dictionary:\n",
        "    print(\"The key 'city' exists in the dictionary.\")\n",
        "else:\n",
        "    print(\"The key 'city' does not exist in the dictionary.\")"
      ],
      "metadata": {
        "colab": {
          "base_uri": "https://localhost:8080/"
        },
        "id": "EhhFvTKVfsad",
        "outputId": "eee52f89-5c50-4c24-cf84-9335558eb2bb"
      },
      "execution_count": 40,
      "outputs": [
        {
          "output_type": "stream",
          "name": "stdout",
          "text": [
            "The key 'city' exists in the dictionary.\n"
          ]
        }
      ]
    },
    {
      "cell_type": "code",
      "source": [
        "#Write a code to create a list, a tuple, and a dictionary, and print them all.\n",
        "#list\n",
        "my_list = ['kiwi', 'apple', 1,2,3, 2.5]\n",
        "print(my_list)\n",
        "#tuple\n",
        "my_tuple = ('kiwi', 'apple', 1,2,3,2.5)\n",
        "print(my_tuple)\n",
        "#Dictionary\n",
        "my_dictionary = {'fruit': 'Apple', 'Number': '1,2,3', 'Float': '2.5'}\n",
        "print(my_dictionary)"
      ],
      "metadata": {
        "colab": {
          "base_uri": "https://localhost:8080/"
        },
        "id": "HUAgg6L4gCUt",
        "outputId": "6afecd9f-544a-4c2e-d364-570a6b794e6a"
      },
      "execution_count": 49,
      "outputs": [
        {
          "output_type": "stream",
          "name": "stdout",
          "text": [
            "['kiwi', 'apple', 1, 2, 3, 2.5]\n",
            "('kiwi', 'apple', 1, 2, 3, 2.5)\n",
            "{'fruit': 'Apple', 'Number': '1,2,3', 'Float': '2.5'}\n"
          ]
        }
      ]
    },
    {
      "cell_type": "code",
      "source": [
        "#Write a code to create a list of 5 random numbers between 1 and 100, sort it in ascending order, and print the result.(replaced)\n",
        "my_list = [14,78,85,45,56]\n",
        "my_list.sort()\n",
        "print(my_list)"
      ],
      "metadata": {
        "colab": {
          "base_uri": "https://localhost:8080/"
        },
        "id": "vnUkOWC6hlRf",
        "outputId": "ecf81de9-c708-46b0-f36f-52d562d1a88e"
      },
      "execution_count": 51,
      "outputs": [
        {
          "output_type": "stream",
          "name": "stdout",
          "text": [
            "[14, 45, 56, 78, 85]\n"
          ]
        }
      ]
    },
    {
      "cell_type": "code",
      "source": [
        "#Write a code to create a list with strings and print the element at the third index.\n",
        "my_list = ['kartik', 'pune', 'data anylytics', 'python', 'powerBI']\n",
        "my_list[3]"
      ],
      "metadata": {
        "colab": {
          "base_uri": "https://localhost:8080/",
          "height": 35
        },
        "id": "o1pFjOyjhohc",
        "outputId": "19b94359-a8f4-49ed-fded-d9d55c970e94"
      },
      "execution_count": 53,
      "outputs": [
        {
          "output_type": "execute_result",
          "data": {
            "text/plain": [
              "'python'"
            ],
            "application/vnd.google.colaboratory.intrinsic+json": {
              "type": "string"
            }
          },
          "metadata": {},
          "execution_count": 53
        }
      ]
    },
    {
      "cell_type": "code",
      "source": [
        "#Write a code to combine two dictionaries into one and print the result.\n",
        "my_dictionary_1 = {'Name': 'Kartik', 'City': 'Pune', 'Job': 'Data Anylytics'}\n",
        "my_dictionary_2 = {'Skills': 'PowerBI', 'Rank': '11', 'Skill_2': 'Python'}\n",
        "combined_dict = {**my_dictionary_1, **my_dictionary_2}\n",
        "print(\"Combined dictionary:\", combined_dict)"
      ],
      "metadata": {
        "colab": {
          "base_uri": "https://localhost:8080/"
        },
        "id": "2DtpJxBhjWlG",
        "outputId": "2b00a1bc-0a09-4f58-ce12-1f0c76d93f4b"
      },
      "execution_count": 59,
      "outputs": [
        {
          "output_type": "stream",
          "name": "stdout",
          "text": [
            "Combined dictionary: {'Name': 'Kartik', 'City': 'Pune', 'Job': 'Data Anylytics', 'Skills': 'PowerBI', 'Rank': '11', 'Skill_2': 'Python'}\n"
          ]
        }
      ]
    },
    {
      "cell_type": "code",
      "source": [
        "#Write a code to convert a list of strings into a set.\n",
        "my_list = ['kiwi', 'apple', 1,2,3, 2.5]\n",
        "my_set = set(my_list)\n",
        "print(\"Set of strings:\", my_set)"
      ],
      "metadata": {
        "colab": {
          "base_uri": "https://localhost:8080/"
        },
        "id": "j1eGQYmrlC2r",
        "outputId": "294b42fb-7f6e-4f25-ff38-d65549bc6ca3"
      },
      "execution_count": 60,
      "outputs": [
        {
          "output_type": "stream",
          "name": "stdout",
          "text": [
            "Set of strings: {1, 2, 3, 2.5, 'kiwi', 'apple'}\n"
          ]
        }
      ]
    }
  ]
}